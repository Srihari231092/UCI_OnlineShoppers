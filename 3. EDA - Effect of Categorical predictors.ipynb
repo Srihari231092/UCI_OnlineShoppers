{
 "cells": [
  {
   "cell_type": "markdown",
   "metadata": {},
   "source": [
    "# EDA - Categorical variables\n",
    "\n",
    "The following notebook performs exploratory data analysis on categorical variables\n",
    "\n",
    "## Contents\n",
    "\n",
    "- [Month](#month)\n",
    "- [Operating systems](#os)\n",
    "- [Browser](#browser)\n",
    "- [Region](#region)\n",
    "- [Traffic Type](#traffic)\n",
    "- [Visitor Type](#visitor)\n",
    "- [Weekend](#weekend)\n",
    "- [Summary](#summary)"
   ]
  },
  {
   "cell_type": "code",
   "execution_count": 1,
   "metadata": {},
   "outputs": [
    {
     "data": {
      "text/html": [
       "<style>.container { width:100% !important; }</style>"
      ],
      "text/plain": [
       "<IPython.core.display.HTML object>"
      ]
     },
     "metadata": {},
     "output_type": "display_data"
    }
   ],
   "source": [
    "import pandas as pd\n",
    "from IPython.core.display import display, HTML\n",
    "import matplotlib.pyplot as plt\n",
    "import os\n",
    "\n",
    "%reload_ext autoreload\n",
    "%autoreload 1\n",
    "\n",
    "pd.set_option('display.max_rows', 800)\n",
    "pd.set_option('display.max_columns', 500)\n",
    "pd.set_option('display.width', 100)\n",
    "pd.set_option('display.max_colwidth', 100)\n",
    "\n",
    "display(HTML(\"<style>.container { width:100% !important; }</style>\"))\n",
    "\n",
    "import warnings\n",
    "warnings.filterwarnings('ignore')"
   ]
  },
  {
   "cell_type": "code",
   "execution_count": 2,
   "metadata": {},
   "outputs": [],
   "source": [
    "import calendar\n",
    "from scipy import stats\n",
    "# chi-squared test with similar proportions\n",
    "from scipy.stats import chi2_contingency\n",
    "from scipy.stats import chi2\n",
    "\n",
    "from Utils.DataUtils import *\n",
    "from Utils.VizUtils import *"
   ]
  },
  {
   "cell_type": "code",
   "execution_count": 3,
   "metadata": {},
   "outputs": [
    {
     "data": {
      "text/plain": [
       "(8543, 18)"
      ]
     },
     "metadata": {},
     "output_type": "display_data"
    },
    {
     "data": {
      "text/html": [
       "<div>\n",
       "<style scoped>\n",
       "    .dataframe tbody tr th:only-of-type {\n",
       "        vertical-align: middle;\n",
       "    }\n",
       "\n",
       "    .dataframe tbody tr th {\n",
       "        vertical-align: top;\n",
       "    }\n",
       "\n",
       "    .dataframe thead th {\n",
       "        text-align: right;\n",
       "    }\n",
       "</style>\n",
       "<table border=\"1\" class=\"dataframe\">\n",
       "  <thead>\n",
       "    <tr style=\"text-align: right;\">\n",
       "      <th></th>\n",
       "      <th>Administrative</th>\n",
       "      <th>Administrative_Duration</th>\n",
       "      <th>Informational</th>\n",
       "      <th>Informational_Duration</th>\n",
       "      <th>ProductRelated</th>\n",
       "      <th>ProductRelated_Duration</th>\n",
       "      <th>BounceRates</th>\n",
       "      <th>ExitRates</th>\n",
       "      <th>PageValues</th>\n",
       "      <th>SpecialDay</th>\n",
       "      <th>Month</th>\n",
       "      <th>OperatingSystems</th>\n",
       "      <th>Browser</th>\n",
       "      <th>Region</th>\n",
       "      <th>TrafficType</th>\n",
       "      <th>VisitorType</th>\n",
       "      <th>Weekend</th>\n",
       "      <th>Revenue</th>\n",
       "    </tr>\n",
       "  </thead>\n",
       "  <tbody>\n",
       "    <tr>\n",
       "      <th>0</th>\n",
       "      <td>11</td>\n",
       "      <td>604.73</td>\n",
       "      <td>0</td>\n",
       "      <td>0.0</td>\n",
       "      <td>63</td>\n",
       "      <td>1276.843158</td>\n",
       "      <td>0.0000</td>\n",
       "      <td>0.006712</td>\n",
       "      <td>0.000000</td>\n",
       "      <td>0.0</td>\n",
       "      <td>Jul</td>\n",
       "      <td>2</td>\n",
       "      <td>2</td>\n",
       "      <td>8</td>\n",
       "      <td>6</td>\n",
       "      <td>New_Visitor</td>\n",
       "      <td>False</td>\n",
       "      <td>True</td>\n",
       "    </tr>\n",
       "    <tr>\n",
       "      <th>1</th>\n",
       "      <td>1</td>\n",
       "      <td>59.50</td>\n",
       "      <td>0</td>\n",
       "      <td>0.0</td>\n",
       "      <td>20</td>\n",
       "      <td>646.166667</td>\n",
       "      <td>0.0000</td>\n",
       "      <td>0.025333</td>\n",
       "      <td>0.000000</td>\n",
       "      <td>0.0</td>\n",
       "      <td>Dec</td>\n",
       "      <td>2</td>\n",
       "      <td>2</td>\n",
       "      <td>9</td>\n",
       "      <td>3</td>\n",
       "      <td>Returning_Visitor</td>\n",
       "      <td>False</td>\n",
       "      <td>False</td>\n",
       "    </tr>\n",
       "    <tr>\n",
       "      <th>2</th>\n",
       "      <td>4</td>\n",
       "      <td>82.50</td>\n",
       "      <td>0</td>\n",
       "      <td>0.0</td>\n",
       "      <td>16</td>\n",
       "      <td>299.500000</td>\n",
       "      <td>0.0000</td>\n",
       "      <td>0.005556</td>\n",
       "      <td>0.000000</td>\n",
       "      <td>0.0</td>\n",
       "      <td>Dec</td>\n",
       "      <td>1</td>\n",
       "      <td>1</td>\n",
       "      <td>4</td>\n",
       "      <td>2</td>\n",
       "      <td>Returning_Visitor</td>\n",
       "      <td>True</td>\n",
       "      <td>False</td>\n",
       "    </tr>\n",
       "    <tr>\n",
       "      <th>3</th>\n",
       "      <td>0</td>\n",
       "      <td>0.00</td>\n",
       "      <td>0</td>\n",
       "      <td>0.0</td>\n",
       "      <td>8</td>\n",
       "      <td>704.166667</td>\n",
       "      <td>0.0125</td>\n",
       "      <td>0.035417</td>\n",
       "      <td>0.000000</td>\n",
       "      <td>0.0</td>\n",
       "      <td>Nov</td>\n",
       "      <td>3</td>\n",
       "      <td>2</td>\n",
       "      <td>1</td>\n",
       "      <td>3</td>\n",
       "      <td>Returning_Visitor</td>\n",
       "      <td>False</td>\n",
       "      <td>False</td>\n",
       "    </tr>\n",
       "    <tr>\n",
       "      <th>4</th>\n",
       "      <td>1</td>\n",
       "      <td>153.50</td>\n",
       "      <td>0</td>\n",
       "      <td>0.0</td>\n",
       "      <td>20</td>\n",
       "      <td>1002.847222</td>\n",
       "      <td>0.0000</td>\n",
       "      <td>0.009524</td>\n",
       "      <td>41.134331</td>\n",
       "      <td>0.0</td>\n",
       "      <td>Nov</td>\n",
       "      <td>2</td>\n",
       "      <td>2</td>\n",
       "      <td>4</td>\n",
       "      <td>2</td>\n",
       "      <td>Returning_Visitor</td>\n",
       "      <td>False</td>\n",
       "      <td>False</td>\n",
       "    </tr>\n",
       "  </tbody>\n",
       "</table>\n",
       "</div>"
      ],
      "text/plain": [
       "   Administrative  Administrative_Duration  Informational  Informational_Duration  ProductRelated  \\\n",
       "0              11                   604.73              0                     0.0              63   \n",
       "1               1                    59.50              0                     0.0              20   \n",
       "2               4                    82.50              0                     0.0              16   \n",
       "3               0                     0.00              0                     0.0               8   \n",
       "4               1                   153.50              0                     0.0              20   \n",
       "\n",
       "   ProductRelated_Duration  BounceRates  ExitRates  PageValues  SpecialDay Month  \\\n",
       "0              1276.843158       0.0000   0.006712    0.000000         0.0   Jul   \n",
       "1               646.166667       0.0000   0.025333    0.000000         0.0   Dec   \n",
       "2               299.500000       0.0000   0.005556    0.000000         0.0   Dec   \n",
       "3               704.166667       0.0125   0.035417    0.000000         0.0   Nov   \n",
       "4              1002.847222       0.0000   0.009524   41.134331         0.0   Nov   \n",
       "\n",
       "   OperatingSystems  Browser  Region  TrafficType        VisitorType  Weekend  Revenue  \n",
       "0                 2        2       8            6        New_Visitor    False     True  \n",
       "1                 2        2       9            3  Returning_Visitor    False    False  \n",
       "2                 1        1       4            2  Returning_Visitor     True    False  \n",
       "3                 3        2       1            3  Returning_Visitor    False    False  \n",
       "4                 2        2       4            2  Returning_Visitor    False    False  "
      ]
     },
     "metadata": {},
     "output_type": "display_data"
    }
   ],
   "source": [
    "train_data = pd.read_csv(\"./train_data.csv\")\n",
    "display(\n",
    "    train_data.shape,\n",
    "    train_data.head()\n",
    ")"
   ]
  },
  {
   "cell_type": "code",
   "execution_count": 4,
   "metadata": {},
   "outputs": [],
   "source": [
    "# Quick helper variable\n",
    "rev_palette = {True:'cornflowerblue', False:'mistyrose'}\n",
    "\n",
    "def chisq_ind_test(df, col1, col2, alpha=0.05, debug=True, print_result=True):\n",
    "    contingency_table = pd.crosstab(df[col1],df[col2],margins = False)\n",
    "    if debug:\n",
    "        print(\"Contingency table:\\n\", contingency_table)\n",
    "    stat, p, dof, expected = chi2_contingency(contingency_table)\n",
    "    if debug:\n",
    "        print(\"Statistic:\", stat)\n",
    "        print(\"P-value:\", p)\n",
    "        print(\"DOF:\", dof)\n",
    "    critical = chi2.ppf(1-alpha, dof)\n",
    "    \n",
    "    if print_result:\n",
    "        if debug:\n",
    "            print('probability=%.3f, critical=%.3f, stat=%.3f' % (1-alpha, critical, stat))\n",
    "        if abs(stat) >= critical:\n",
    "            print('Dependent (reject H0)')\n",
    "        else:\n",
    "            print('Independent (fail to reject H0)')\n",
    "        # interpret p-value\n",
    "        if debug:\n",
    "            print('significance=%.3f, p=%.3f' % (alpha, p))\n",
    "        if p <= alpha:\n",
    "            print('Dependent (reject H0)')\n",
    "        else:\n",
    "            print('Independent (fail to reject H0)')\n",
    "    \n",
    "    return stat, p, dof"
   ]
  },
  {
   "cell_type": "code",
   "execution_count": 5,
   "metadata": {
    "scrolled": true
   },
   "outputs": [
    {
     "data": {
      "text/html": [
       "<div>\n",
       "<style scoped>\n",
       "    .dataframe tbody tr th:only-of-type {\n",
       "        vertical-align: middle;\n",
       "    }\n",
       "\n",
       "    .dataframe tbody tr th {\n",
       "        vertical-align: top;\n",
       "    }\n",
       "\n",
       "    .dataframe thead th {\n",
       "        text-align: right;\n",
       "    }\n",
       "</style>\n",
       "<table border=\"1\" class=\"dataframe\">\n",
       "  <thead>\n",
       "    <tr style=\"text-align: right;\">\n",
       "      <th></th>\n",
       "      <th>Month</th>\n",
       "      <th>OperatingSystems</th>\n",
       "      <th>Browser</th>\n",
       "      <th>Region</th>\n",
       "      <th>TrafficType</th>\n",
       "      <th>VisitorType</th>\n",
       "      <th>Weekend</th>\n",
       "      <th>Revenue</th>\n",
       "    </tr>\n",
       "  </thead>\n",
       "  <tbody>\n",
       "    <tr>\n",
       "      <th>0</th>\n",
       "      <td>Jul</td>\n",
       "      <td>2</td>\n",
       "      <td>2</td>\n",
       "      <td>8</td>\n",
       "      <td>6</td>\n",
       "      <td>New_Visitor</td>\n",
       "      <td>False</td>\n",
       "      <td>True</td>\n",
       "    </tr>\n",
       "    <tr>\n",
       "      <th>1</th>\n",
       "      <td>Dec</td>\n",
       "      <td>2</td>\n",
       "      <td>2</td>\n",
       "      <td>9</td>\n",
       "      <td>3</td>\n",
       "      <td>Returning_Visitor</td>\n",
       "      <td>False</td>\n",
       "      <td>False</td>\n",
       "    </tr>\n",
       "    <tr>\n",
       "      <th>2</th>\n",
       "      <td>Dec</td>\n",
       "      <td>1</td>\n",
       "      <td>1</td>\n",
       "      <td>4</td>\n",
       "      <td>2</td>\n",
       "      <td>Returning_Visitor</td>\n",
       "      <td>True</td>\n",
       "      <td>False</td>\n",
       "    </tr>\n",
       "    <tr>\n",
       "      <th>3</th>\n",
       "      <td>Nov</td>\n",
       "      <td>3</td>\n",
       "      <td>2</td>\n",
       "      <td>1</td>\n",
       "      <td>3</td>\n",
       "      <td>Returning_Visitor</td>\n",
       "      <td>False</td>\n",
       "      <td>False</td>\n",
       "    </tr>\n",
       "    <tr>\n",
       "      <th>4</th>\n",
       "      <td>Nov</td>\n",
       "      <td>2</td>\n",
       "      <td>2</td>\n",
       "      <td>4</td>\n",
       "      <td>2</td>\n",
       "      <td>Returning_Visitor</td>\n",
       "      <td>False</td>\n",
       "      <td>False</td>\n",
       "    </tr>\n",
       "  </tbody>\n",
       "</table>\n",
       "</div>"
      ],
      "text/plain": [
       "  Month  OperatingSystems  Browser  Region  TrafficType        VisitorType  Weekend  Revenue\n",
       "0   Jul                 2        2       8            6        New_Visitor    False     True\n",
       "1   Dec                 2        2       9            3  Returning_Visitor    False    False\n",
       "2   Dec                 1        1       4            2  Returning_Visitor     True    False\n",
       "3   Nov                 3        2       1            3  Returning_Visitor    False    False\n",
       "4   Nov                 2        2       4            2  Returning_Visitor    False    False"
      ]
     },
     "execution_count": 5,
     "metadata": {},
     "output_type": "execute_result"
    }
   ],
   "source": [
    "cat_cols = [\"Month\", \"OperatingSystems\", \"Browser\", \"Region\", \"TrafficType\", \"VisitorType\", \"Weekend\"]\n",
    "train_data[cat_cols+[\"Revenue\"]].head()"
   ]
  },
  {
   "cell_type": "markdown",
   "metadata": {},
   "source": [
    "--------"
   ]
  },
  {
   "cell_type": "markdown",
   "metadata": {},
   "source": [
    "#  Month<a id='month'></a>"
   ]
  },
  {
   "cell_type": "markdown",
   "metadata": {},
   "source": [
    "What months do most sales happen?"
   ]
  },
  {
   "cell_type": "code",
   "execution_count": 6,
   "metadata": {},
   "outputs": [
    {
     "data": {
      "text/plain": [
       "<matplotlib.axes._subplots.AxesSubplot at 0x22467549fd0>"
      ]
     },
     "execution_count": 6,
     "metadata": {},
     "output_type": "execute_result"
    },
    {
     "data": {
      "image/png": "[encoded data removed]",
      "text/plain": [
       "<Figure size 720x360 with 1 Axes>"
      ]
     },
     "metadata": {
      "needs_background": "light"
     },
     "output_type": "display_data"
    }
   ],
   "source": [
    "months = [calendar.month_name[i][:3] for i in range(1,13)]\n",
    "months[5] = \"June\"\n",
    "\n",
    "f, ax = plt.subplots(1,1,figsize=(10,5))\n",
    "sns.countplot(x=train_data[\"Month\"], data=train_data, order=months, hue=\"Revenue\", palette=rev_palette)"
   ]
  },
  {
   "cell_type": "code",
   "execution_count": 7,
   "metadata": {},
   "outputs": [
    {
     "data": {
      "text/plain": [
       "May     2306\n",
       "Nov     2110\n",
       "Mar     1288\n",
       "Dec     1206\n",
       "Oct      393\n",
       "Jul      316\n",
       "Sep      305\n",
       "Aug      304\n",
       "June     198\n",
       "Feb      117\n",
       "Name: Month, dtype: int64"
      ]
     },
     "execution_count": 7,
     "metadata": {},
     "output_type": "execute_result"
    }
   ],
   "source": [
    "train_data[\"Month\"].value_counts()"
   ]
  },
  {
   "cell_type": "code",
   "execution_count": 7,
   "metadata": {},
   "outputs": [
    {
     "data": {
      "text/html": [
       "<div>\n",
       "<style scoped>\n",
       "    .dataframe tbody tr th:only-of-type {\n",
       "        vertical-align: middle;\n",
       "    }\n",
       "\n",
       "    .dataframe tbody tr th {\n",
       "        vertical-align: top;\n",
       "    }\n",
       "\n",
       "    .dataframe thead th {\n",
       "        text-align: right;\n",
       "    }\n",
       "</style>\n",
       "<table border=\"1\" class=\"dataframe\">\n",
       "  <thead>\n",
       "    <tr style=\"text-align: right;\">\n",
       "      <th></th>\n",
       "      <th>Revenue</th>\n",
       "      <th>Month</th>\n",
       "      <th>count</th>\n",
       "      <th>count_norm</th>\n",
       "    </tr>\n",
       "  </thead>\n",
       "  <tbody>\n",
       "    <tr>\n",
       "      <th>0</th>\n",
       "      <td>False</td>\n",
       "      <td>Aug</td>\n",
       "      <td>255</td>\n",
       "      <td>0.838816</td>\n",
       "    </tr>\n",
       "    <tr>\n",
       "      <th>1</th>\n",
       "      <td>False</td>\n",
       "      <td>Dec</td>\n",
       "      <td>1048</td>\n",
       "      <td>0.868988</td>\n",
       "    </tr>\n",
       "    <tr>\n",
       "      <th>2</th>\n",
       "      <td>False</td>\n",
       "      <td>Feb</td>\n",
       "      <td>115</td>\n",
       "      <td>0.982906</td>\n",
       "    </tr>\n",
       "    <tr>\n",
       "      <th>3</th>\n",
       "      <td>False</td>\n",
       "      <td>Jul</td>\n",
       "      <td>268</td>\n",
       "      <td>0.848101</td>\n",
       "    </tr>\n",
       "    <tr>\n",
       "      <th>4</th>\n",
       "      <td>False</td>\n",
       "      <td>June</td>\n",
       "      <td>181</td>\n",
       "      <td>0.914141</td>\n",
       "    </tr>\n",
       "    <tr>\n",
       "      <th>5</th>\n",
       "      <td>False</td>\n",
       "      <td>Mar</td>\n",
       "      <td>1165</td>\n",
       "      <td>0.904503</td>\n",
       "    </tr>\n",
       "    <tr>\n",
       "      <th>6</th>\n",
       "      <td>False</td>\n",
       "      <td>May</td>\n",
       "      <td>2045</td>\n",
       "      <td>0.886817</td>\n",
       "    </tr>\n",
       "    <tr>\n",
       "      <th>7</th>\n",
       "      <td>False</td>\n",
       "      <td>Nov</td>\n",
       "      <td>1565</td>\n",
       "      <td>0.741706</td>\n",
       "    </tr>\n",
       "    <tr>\n",
       "      <th>8</th>\n",
       "      <td>False</td>\n",
       "      <td>Oct</td>\n",
       "      <td>309</td>\n",
       "      <td>0.786260</td>\n",
       "    </tr>\n",
       "    <tr>\n",
       "      <th>9</th>\n",
       "      <td>False</td>\n",
       "      <td>Sep</td>\n",
       "      <td>256</td>\n",
       "      <td>0.839344</td>\n",
       "    </tr>\n",
       "    <tr>\n",
       "      <th>10</th>\n",
       "      <td>True</td>\n",
       "      <td>Aug</td>\n",
       "      <td>49</td>\n",
       "      <td>0.161184</td>\n",
       "    </tr>\n",
       "    <tr>\n",
       "      <th>11</th>\n",
       "      <td>True</td>\n",
       "      <td>Dec</td>\n",
       "      <td>158</td>\n",
       "      <td>0.131012</td>\n",
       "    </tr>\n",
       "    <tr>\n",
       "      <th>12</th>\n",
       "      <td>True</td>\n",
       "      <td>Feb</td>\n",
       "      <td>2</td>\n",
       "      <td>0.017094</td>\n",
       "    </tr>\n",
       "    <tr>\n",
       "      <th>13</th>\n",
       "      <td>True</td>\n",
       "      <td>Jul</td>\n",
       "      <td>48</td>\n",
       "      <td>0.151899</td>\n",
       "    </tr>\n",
       "    <tr>\n",
       "      <th>14</th>\n",
       "      <td>True</td>\n",
       "      <td>June</td>\n",
       "      <td>17</td>\n",
       "      <td>0.085859</td>\n",
       "    </tr>\n",
       "    <tr>\n",
       "      <th>15</th>\n",
       "      <td>True</td>\n",
       "      <td>Mar</td>\n",
       "      <td>123</td>\n",
       "      <td>0.095497</td>\n",
       "    </tr>\n",
       "    <tr>\n",
       "      <th>16</th>\n",
       "      <td>True</td>\n",
       "      <td>May</td>\n",
       "      <td>261</td>\n",
       "      <td>0.113183</td>\n",
       "    </tr>\n",
       "    <tr>\n",
       "      <th>17</th>\n",
       "      <td>True</td>\n",
       "      <td>Nov</td>\n",
       "      <td>545</td>\n",
       "      <td>0.258294</td>\n",
       "    </tr>\n",
       "    <tr>\n",
       "      <th>18</th>\n",
       "      <td>True</td>\n",
       "      <td>Oct</td>\n",
       "      <td>84</td>\n",
       "      <td>0.213740</td>\n",
       "    </tr>\n",
       "    <tr>\n",
       "      <th>19</th>\n",
       "      <td>True</td>\n",
       "      <td>Sep</td>\n",
       "      <td>49</td>\n",
       "      <td>0.160656</td>\n",
       "    </tr>\n",
       "  </tbody>\n",
       "</table>\n",
       "</div>"
      ],
      "text/plain": [
       "    Revenue Month  count  count_norm\n",
       "0     False   Aug    255    0.838816\n",
       "1     False   Dec   1048    0.868988\n",
       "2     False   Feb    115    0.982906\n",
       "3     False   Jul    268    0.848101\n",
       "4     False  June    181    0.914141\n",
       "5     False   Mar   1165    0.904503\n",
       "6     False   May   2045    0.886817\n",
       "7     False   Nov   1565    0.741706\n",
       "8     False   Oct    309    0.786260\n",
       "9     False   Sep    256    0.839344\n",
       "10     True   Aug     49    0.161184\n",
       "11     True   Dec    158    0.131012\n",
       "12     True   Feb      2    0.017094\n",
       "13     True   Jul     48    0.151899\n",
       "14     True  June     17    0.085859\n",
       "15     True   Mar    123    0.095497\n",
       "16     True   May    261    0.113183\n",
       "17     True   Nov    545    0.258294\n",
       "18     True   Oct     84    0.213740\n",
       "19     True   Sep     49    0.160656"
      ]
     },
     "metadata": {},
     "output_type": "display_data"
    },
    {
     "data": {
      "text/plain": [
       "<matplotlib.axes._subplots.AxesSubplot at 0x22469712e80>"
      ]
     },
     "execution_count": 7,
     "metadata": {},
     "output_type": "execute_result"
    },
    {
     "data": {
      "image/png": "[encoded data removed]",
      "text/plain": [
       "<Figure size 720x360 with 1 Axes>"
      ]
     },
     "metadata": {
      "needs_background": "light"
     },
     "output_type": "display_data"
    }
   ],
   "source": [
    "tmp = train_data[[\"Revenue\", \"Month\"]]\n",
    "tmp[\"count\"] = 1\n",
    "tmp = tmp.groupby([\"Revenue\", \"Month\"], as_index=False).count()\n",
    "tmp[\"count_norm\"] = 1\n",
    "def get_norm_count(row):\n",
    "    q = \"Month==\\\"\"+row[\"Month\"]+\"\\\"\"\n",
    "    val = tmp.query(q)[\"count\"].sum()\n",
    "    row[\"count_norm\"] = row[\"count\"]/val\n",
    "    return row\n",
    "tmp = tmp.apply(get_norm_count, axis=1)\n",
    "display(tmp)\n",
    "tmp.pivot(columns=\"Revenue\", index=\"Month\", values=\"count_norm\").loc[months,:].plot.bar(stacked=True, color=['mistyrose', 'cornflowerblue'], figsize=(10,5))"
   ]
  },
  {
   "cell_type": "code",
   "execution_count": 77,
   "metadata": {},
   "outputs": [
    {
     "data": {
      "text/plain": [
       "<matplotlib.axes._subplots.AxesSubplot at 0x2ccecfdcf28>"
      ]
     },
     "execution_count": 77,
     "metadata": {},
     "output_type": "execute_result"
    },
    {
     "data": {
      "image/png": "[encoded data removed]",
      "text/plain": [
       "<Figure size 720x360 with 1 Axes>"
      ]
     },
     "metadata": {
      "needs_background": "light"
     },
     "output_type": "display_data"
    }
   ],
   "source": [
    "train_data[\"quarter\"] = train_data[\"Month\"].apply(lambda x: 1+np.floor(months.index(x)/3)).astype(np.uint8)\n",
    "f, ax = plt.subplots(1,1,figsize=(10,5))\n",
    "sns.countplot(x=train_data[\"quarter\"], data=train_data, hue=\"Revenue\", palette=rev_palette)"
   ]
  },
  {
   "cell_type": "code",
   "execution_count": 82,
   "metadata": {
    "scrolled": false
   },
   "outputs": [
    {
     "data": {
      "text/plain": [
       "<matplotlib.axes._subplots.AxesSubplot at 0x2cced29a240>"
      ]
     },
     "execution_count": 82,
     "metadata": {},
     "output_type": "execute_result"
    },
    {
     "data": {
      "image/png": "[encoded data removed]",
      "text/plain": [
       "<Figure size 720x360 with 1 Axes>"
      ]
     },
     "metadata": {
      "needs_background": "light"
     },
     "output_type": "display_data"
    }
   ],
   "source": [
    "tmp = train_data[[\"Revenue\", \"quarter\"]]\n",
    "tmp[\"count\"] = 1\n",
    "tmp = tmp.groupby([\"Revenue\", \"quarter\"], as_index=False).count()\n",
    "tmp[\"count_norm\"] = 1\n",
    "def get_norm_count(row):\n",
    "    q = \"quarter==\\\"\"+str(row[\"quarter\"])+\"\\\"\"\n",
    "    val = tmp.query(q)[\"count\"].sum()\n",
    "    row[\"count_norm\"] = row[\"count\"]/val\n",
    "    return row\n",
    "tmp = tmp.apply(get_norm_count, axis=1)\n",
    "tmp.pivot(columns=\"Revenue\", index=\"quarter\", values=\"count_norm\").plot.bar(stacked=True, color=['mistyrose', 'cornflowerblue'], figsize=(10,5))"
   ]
  },
  {
   "cell_type": "markdown",
   "metadata": {},
   "source": [
    "Is there any association between these Month and Revenue?"
   ]
  },
  {
   "cell_type": "code",
   "execution_count": 8,
   "metadata": {},
   "outputs": [
    {
     "name": "stdout",
     "output_type": "stream",
     "text": [
      "Contingency table:\n",
      " Revenue  False  True \n",
      "Month                \n",
      "Aug        255     49\n",
      "Dec       1048    158\n",
      "Feb        115      2\n",
      "Jul        268     48\n",
      "June       181     17\n",
      "Mar       1165    123\n",
      "May       2045    261\n",
      "Nov       1565    545\n",
      "Oct        309     84\n",
      "Sep        256     49\n",
      "Statistic: 275.41575258740664\n",
      "P-value: 4.227059349713266e-54\n",
      "DOF: 9\n",
      "probability=0.950, critical=16.919, stat=275.416\n",
      "Dependent (reject H0)\n",
      "significance=0.050, p=0.000\n",
      "Dependent (reject H0)\n"
     ]
    }
   ],
   "source": [
    "stat, p, dof = chisq_ind_test(train_data, 'Month', 'Revenue', 0.05)"
   ]
  },
  {
   "cell_type": "markdown",
   "metadata": {},
   "source": [
    "Since the null hypothesis is rejected, Month and Revenue are not independent."
   ]
  },
  {
   "cell_type": "markdown",
   "metadata": {},
   "source": [
    "--------"
   ]
  },
  {
   "cell_type": "markdown",
   "metadata": {},
   "source": [
    "#  OperatingSystems<a id='os'></a>"
   ]
  },
  {
   "cell_type": "markdown",
   "metadata": {},
   "source": [
    "Do operating systems play a role on Revenue generation?"
   ]
  },
  {
   "cell_type": "code",
   "execution_count": 9,
   "metadata": {},
   "outputs": [
    {
     "data": {
      "text/plain": [
       "2    53.423856\n",
       "3    20.894299\n",
       "1    20.788950\n",
       "4     3.991572\n",
       "8     0.608685\n",
       "6     0.163877\n",
       "5     0.070233\n",
       "7     0.058527\n",
       "Name: OperatingSystems, dtype: float64"
      ]
     },
     "metadata": {},
     "output_type": "display_data"
    }
   ],
   "source": [
    "display(100*train_data[\"OperatingSystems\"].value_counts()/train_data.shape[0])"
   ]
  },
  {
   "cell_type": "code",
   "execution_count": 10,
   "metadata": {},
   "outputs": [
    {
     "data": {
      "text/plain": [
       "<matplotlib.axes._subplots.AxesSubplot at 0x26642f3eb70>"
      ]
     },
     "execution_count": 10,
     "metadata": {},
     "output_type": "execute_result"
    },
    {
     "data": {
      "image/png": "[encoded data removed]",
      "text/plain": [
       "<Figure size 720x360 with 1 Axes>"
      ]
     },
     "metadata": {
      "needs_background": "light"
     },
     "output_type": "display_data"
    }
   ],
   "source": [
    "f, ax = plt.subplots(1,1,figsize=(10,5))\n",
    "sns.countplot(x=train_data[\"OperatingSystems\"], data=train_data, hue=\"Revenue\", palette=rev_palette)"
   ]
  },
  {
   "cell_type": "markdown",
   "metadata": {},
   "source": [
    "There is a very strong skew to the right, with Operating Systems 5,6,7 and 8 having less than 1% of prevalence. \n",
    "\n",
    "We can club operating systems 4 through 8 into a new category."
   ]
  },
  {
   "cell_type": "code",
   "execution_count": 10,
   "metadata": {},
   "outputs": [
    {
     "data": {
      "text/plain": [
       "2        53.423856\n",
       "3        20.894299\n",
       "1        20.788950\n",
       "other     4.892895\n",
       "Name: OperatingSystems_agg, dtype: float64"
      ]
     },
     "metadata": {},
     "output_type": "display_data"
    }
   ],
   "source": [
    "train_data[\"OperatingSystems_agg\"] = train_data[\"OperatingSystems\"].apply(lambda x: \"other\" if x >=4 else x)\n",
    "display(100*train_data[\"OperatingSystems_agg\"].value_counts()/train_data.shape[0])"
   ]
  },
  {
   "cell_type": "markdown",
   "metadata": {},
   "source": [
    "Now let's visualize contributions again"
   ]
  },
  {
   "cell_type": "code",
   "execution_count": 11,
   "metadata": {},
   "outputs": [
    {
     "data": {
      "text/plain": [
       "<matplotlib.axes._subplots.AxesSubplot at 0x2031a149c18>"
      ]
     },
     "execution_count": 11,
     "metadata": {},
     "output_type": "execute_result"
    },
    {
     "data": {
      "image/png": "[encoded data removed]",
      "text/plain": [
       "<Figure size 720x360 with 1 Axes>"
      ]
     },
     "metadata": {
      "needs_background": "light"
     },
     "output_type": "display_data"
    }
   ],
   "source": [
    "f, ax = plt.subplots(1,1,figsize=(10,5))\n",
    "sns.countplot(x=train_data[\"OperatingSystems_agg\"], data=train_data, hue=\"Revenue\", palette=rev_palette)"
   ]
  },
  {
   "cell_type": "code",
   "execution_count": 12,
   "metadata": {
    "scrolled": true
   },
   "outputs": [
    {
     "name": "stdout",
     "output_type": "stream",
     "text": [
      "Contingency table:\n",
      " Revenue               False  True \n",
      "OperatingSystems_agg              \n",
      "1                      1512    264\n",
      "2                      3767    797\n",
      "3                      1583    202\n",
      "other                   345     73\n",
      "Statistic: 38.64764150810362\n",
      "P-value: 2.061119943186212e-08\n",
      "DOF: 3\n",
      "probability=0.950, critical=7.815, stat=38.648\n",
      "Dependent (reject H0)\n",
      "significance=0.050, p=0.000\n",
      "Dependent (reject H0)\n"
     ]
    }
   ],
   "source": [
    "stat, p, dof = chisq_ind_test(train_data, 'OperatingSystems_agg', 'Revenue', 0.05)"
   ]
  },
  {
   "cell_type": "markdown",
   "metadata": {},
   "source": [
    "Since the null hypothesis is rejected, Operating Systems (agg) and Revenue are not independent."
   ]
  },
  {
   "cell_type": "markdown",
   "metadata": {},
   "source": [
    "--------"
   ]
  },
  {
   "cell_type": "markdown",
   "metadata": {},
   "source": [
    "# Browser<a id='browser'></a>"
   ]
  },
  {
   "cell_type": "markdown",
   "metadata": {},
   "source": [
    "What is the distribution of browsers in the dataset?"
   ]
  },
  {
   "cell_type": "code",
   "execution_count": 60,
   "metadata": {},
   "outputs": [
    {
     "data": {
      "text/html": [
       "<div>\n",
       "<style scoped>\n",
       "    .dataframe tbody tr th:only-of-type {\n",
       "        vertical-align: middle;\n",
       "    }\n",
       "\n",
       "    .dataframe tbody tr th {\n",
       "        vertical-align: top;\n",
       "    }\n",
       "\n",
       "    .dataframe thead th {\n",
       "        text-align: right;\n",
       "    }\n",
       "</style>\n",
       "<table border=\"1\" class=\"dataframe\">\n",
       "  <thead>\n",
       "    <tr style=\"text-align: right;\">\n",
       "      <th></th>\n",
       "      <th>Browser</th>\n",
       "    </tr>\n",
       "  </thead>\n",
       "  <tbody>\n",
       "    <tr>\n",
       "      <th>1</th>\n",
       "      <td>19.840805</td>\n",
       "    </tr>\n",
       "    <tr>\n",
       "      <th>2</th>\n",
       "      <td>64.626010</td>\n",
       "    </tr>\n",
       "    <tr>\n",
       "      <th>3</th>\n",
       "      <td>0.889617</td>\n",
       "    </tr>\n",
       "    <tr>\n",
       "      <th>4</th>\n",
       "      <td>5.782512</td>\n",
       "    </tr>\n",
       "    <tr>\n",
       "      <th>5</th>\n",
       "      <td>3.780873</td>\n",
       "    </tr>\n",
       "    <tr>\n",
       "      <th>6</th>\n",
       "      <td>1.428070</td>\n",
       "    </tr>\n",
       "    <tr>\n",
       "      <th>7</th>\n",
       "      <td>0.468220</td>\n",
       "    </tr>\n",
       "    <tr>\n",
       "      <th>8</th>\n",
       "      <td>1.135433</td>\n",
       "    </tr>\n",
       "    <tr>\n",
       "      <th>9</th>\n",
       "      <td>0.011705</td>\n",
       "    </tr>\n",
       "    <tr>\n",
       "      <th>10</th>\n",
       "      <td>1.416364</td>\n",
       "    </tr>\n",
       "    <tr>\n",
       "      <th>11</th>\n",
       "      <td>0.070233</td>\n",
       "    </tr>\n",
       "    <tr>\n",
       "      <th>12</th>\n",
       "      <td>0.105349</td>\n",
       "    </tr>\n",
       "    <tr>\n",
       "      <th>13</th>\n",
       "      <td>0.444809</td>\n",
       "    </tr>\n",
       "  </tbody>\n",
       "</table>\n",
       "</div>"
      ],
      "text/plain": [
       "      Browser\n",
       "1   19.840805\n",
       "2   64.626010\n",
       "3    0.889617\n",
       "4    5.782512\n",
       "5    3.780873\n",
       "6    1.428070\n",
       "7    0.468220\n",
       "8    1.135433\n",
       "9    0.011705\n",
       "10   1.416364\n",
       "11   0.070233\n",
       "12   0.105349\n",
       "13   0.444809"
      ]
     },
     "metadata": {},
     "output_type": "display_data"
    }
   ],
   "source": [
    "display((pd.DataFrame(100*train_data[\"Browser\"].value_counts()/train_data.shape[0]).sort_index()))"
   ]
  },
  {
   "cell_type": "code",
   "execution_count": 8,
   "metadata": {},
   "outputs": [
    {
     "data": {
      "text/plain": [
       "<matplotlib.axes._subplots.AxesSubplot at 0x22467568518>"
      ]
     },
     "execution_count": 8,
     "metadata": {},
     "output_type": "execute_result"
    },
    {
     "data": {
      "image/png": "[encoded data removed]",
      "text/plain": [
       "<Figure size 1080x360 with 1 Axes>"
      ]
     },
     "metadata": {
      "needs_background": "light"
     },
     "output_type": "display_data"
    }
   ],
   "source": [
    "f, ax = plt.subplots(1,1,figsize=(15,5))\n",
    "sns.countplot(x=train_data[\"Browser\"], data=train_data, hue=\"Revenue\", palette=rev_palette)"
   ]
  },
  {
   "cell_type": "markdown",
   "metadata": {},
   "source": [
    "Similar to Operating Systems, we can aggregate some of the less prevalent ones together."
   ]
  },
  {
   "cell_type": "code",
   "execution_count": 9,
   "metadata": {},
   "outputs": [
    {
     "data": {
      "text/html": [
       "<div>\n",
       "<style scoped>\n",
       "    .dataframe tbody tr th:only-of-type {\n",
       "        vertical-align: middle;\n",
       "    }\n",
       "\n",
       "    .dataframe tbody tr th {\n",
       "        vertical-align: top;\n",
       "    }\n",
       "\n",
       "    .dataframe thead th {\n",
       "        text-align: right;\n",
       "    }\n",
       "</style>\n",
       "<table border=\"1\" class=\"dataframe\">\n",
       "  <thead>\n",
       "    <tr style=\"text-align: right;\">\n",
       "      <th></th>\n",
       "      <th>Browser_agg</th>\n",
       "    </tr>\n",
       "  </thead>\n",
       "  <tbody>\n",
       "    <tr>\n",
       "      <th>2</th>\n",
       "      <td>64.626010</td>\n",
       "    </tr>\n",
       "    <tr>\n",
       "      <th>1</th>\n",
       "      <td>19.840805</td>\n",
       "    </tr>\n",
       "    <tr>\n",
       "      <th>other</th>\n",
       "      <td>9.750673</td>\n",
       "    </tr>\n",
       "    <tr>\n",
       "      <th>4</th>\n",
       "      <td>5.782512</td>\n",
       "    </tr>\n",
       "  </tbody>\n",
       "</table>\n",
       "</div>"
      ],
      "text/plain": [
       "       Browser_agg\n",
       "2        64.626010\n",
       "1        19.840805\n",
       "other     9.750673\n",
       "4         5.782512"
      ]
     },
     "metadata": {},
     "output_type": "display_data"
    }
   ],
   "source": [
    "train_data[\"Browser_agg\"] = train_data[\"Browser\"].apply(lambda x: \"other\" if x not in [1,2,4] else x)\n",
    "display(pd.DataFrame(100*train_data[\"Browser_agg\"].value_counts()/train_data.shape[0]))"
   ]
  },
  {
   "cell_type": "code",
   "execution_count": 10,
   "metadata": {
    "scrolled": false
   },
   "outputs": [
    {
     "data": {
      "text/plain": [
       "<matplotlib.axes._subplots.AxesSubplot at 0x224697f27f0>"
      ]
     },
     "execution_count": 10,
     "metadata": {},
     "output_type": "execute_result"
    },
    {
     "data": {
      "image/png": "[encoded data removed]",
      "text/plain": [
       "<Figure size 720x360 with 1 Axes>"
      ]
     },
     "metadata": {
      "needs_background": "light"
     },
     "output_type": "display_data"
    }
   ],
   "source": [
    "f, ax = plt.subplots(1,1,figsize=(10,5))\n",
    "sns.countplot(x=train_data[\"Browser_agg\"], data=train_data, hue=\"Revenue\", palette=rev_palette)"
   ]
  },
  {
   "cell_type": "code",
   "execution_count": 11,
   "metadata": {},
   "outputs": [
    {
     "data": {
      "text/html": [
       "<div>\n",
       "<style scoped>\n",
       "    .dataframe tbody tr th:only-of-type {\n",
       "        vertical-align: middle;\n",
       "    }\n",
       "\n",
       "    .dataframe tbody tr th {\n",
       "        vertical-align: top;\n",
       "    }\n",
       "\n",
       "    .dataframe thead th {\n",
       "        text-align: right;\n",
       "    }\n",
       "</style>\n",
       "<table border=\"1\" class=\"dataframe\">\n",
       "  <thead>\n",
       "    <tr style=\"text-align: right;\">\n",
       "      <th></th>\n",
       "      <th>Revenue</th>\n",
       "      <th>Browser_agg</th>\n",
       "      <th>count</th>\n",
       "      <th>count_norm</th>\n",
       "    </tr>\n",
       "  </thead>\n",
       "  <tbody>\n",
       "    <tr>\n",
       "      <th>0</th>\n",
       "      <td>False</td>\n",
       "      <td>1</td>\n",
       "      <td>1442</td>\n",
       "      <td>0.850737</td>\n",
       "    </tr>\n",
       "    <tr>\n",
       "      <th>1</th>\n",
       "      <td>False</td>\n",
       "      <td>2</td>\n",
       "      <td>4659</td>\n",
       "      <td>0.843869</td>\n",
       "    </tr>\n",
       "    <tr>\n",
       "      <th>2</th>\n",
       "      <td>False</td>\n",
       "      <td>4</td>\n",
       "      <td>403</td>\n",
       "      <td>0.815789</td>\n",
       "    </tr>\n",
       "    <tr>\n",
       "      <th>3</th>\n",
       "      <td>False</td>\n",
       "      <td>other</td>\n",
       "      <td>703</td>\n",
       "      <td>0.843938</td>\n",
       "    </tr>\n",
       "    <tr>\n",
       "      <th>4</th>\n",
       "      <td>True</td>\n",
       "      <td>1</td>\n",
       "      <td>253</td>\n",
       "      <td>0.149263</td>\n",
       "    </tr>\n",
       "    <tr>\n",
       "      <th>5</th>\n",
       "      <td>True</td>\n",
       "      <td>2</td>\n",
       "      <td>862</td>\n",
       "      <td>0.156131</td>\n",
       "    </tr>\n",
       "    <tr>\n",
       "      <th>6</th>\n",
       "      <td>True</td>\n",
       "      <td>4</td>\n",
       "      <td>91</td>\n",
       "      <td>0.184211</td>\n",
       "    </tr>\n",
       "    <tr>\n",
       "      <th>7</th>\n",
       "      <td>True</td>\n",
       "      <td>other</td>\n",
       "      <td>130</td>\n",
       "      <td>0.156062</td>\n",
       "    </tr>\n",
       "  </tbody>\n",
       "</table>\n",
       "</div>"
      ],
      "text/plain": [
       "   Revenue Browser_agg  count  count_norm\n",
       "0    False           1   1442    0.850737\n",
       "1    False           2   4659    0.843869\n",
       "2    False           4    403    0.815789\n",
       "3    False       other    703    0.843938\n",
       "4     True           1    253    0.149263\n",
       "5     True           2    862    0.156131\n",
       "6     True           4     91    0.184211\n",
       "7     True       other    130    0.156062"
      ]
     },
     "metadata": {},
     "output_type": "display_data"
    },
    {
     "data": {
      "text/plain": [
       "<matplotlib.axes._subplots.AxesSubplot at 0x22469953438>"
      ]
     },
     "execution_count": 11,
     "metadata": {},
     "output_type": "execute_result"
    },
    {
     "data": {
      "image/png": "[encoded data removed]",
      "text/plain": [
       "<Figure size 720x360 with 1 Axes>"
      ]
     },
     "metadata": {
      "needs_background": "light"
     },
     "output_type": "display_data"
    }
   ],
   "source": [
    "tmp = train_data[[\"Revenue\", \"Browser_agg\"]]\n",
    "tmp[\"Browser_agg\"] = tmp[\"Browser_agg\"].astype(str)\n",
    "tmp[\"count\"] = 1\n",
    "tmp = tmp.groupby([\"Revenue\", \"Browser_agg\"], as_index=False).count()\n",
    "tmp[\"count_norm\"] = 1\n",
    "def get_norm_count(row):\n",
    "    q = \"Browser_agg==\\\"\"+row[\"Browser_agg\"]+\"\\\"\"\n",
    "    val = tmp.query(q)[\"count\"].sum()\n",
    "    row[\"count_norm\"] = row[\"count\"]/val\n",
    "    return row\n",
    "tmp = tmp.apply(get_norm_count, axis=1)\n",
    "display(tmp)\n",
    "tmp.pivot(columns=\"Revenue\", index=\"Browser_agg\", values=\"count_norm\").plot.bar(stacked=True, color=['mistyrose', 'cornflowerblue'], figsize=(10,5))"
   ]
  },
  {
   "cell_type": "code",
   "execution_count": 16,
   "metadata": {
    "scrolled": true
   },
   "outputs": [
    {
     "name": "stdout",
     "output_type": "stream",
     "text": [
      "Contingency table:\n",
      " Revenue      False  True \n",
      "Browser_agg              \n",
      "1             1442    253\n",
      "2             4659    862\n",
      "4              403     91\n",
      "other          703    130\n",
      "Statistic: 3.554286536239366\n",
      "P-value: 0.313789291724429\n",
      "DOF: 3\n",
      "probability=0.950, critical=7.815, stat=3.554\n",
      "Independent (fail to reject H0)\n",
      "significance=0.050, p=0.314\n",
      "Independent (fail to reject H0)\n"
     ]
    }
   ],
   "source": [
    "stat, p, dof = chisq_ind_test(train_data, 'Browser_agg', 'Revenue', 0.05)"
   ]
  },
  {
   "cell_type": "markdown",
   "metadata": {},
   "source": [
    "The test states that the Browser (agg) and Revenue are independent of each other"
   ]
  },
  {
   "cell_type": "markdown",
   "metadata": {},
   "source": [
    "###  Do Browser and Operating system have a strong association as well?"
   ]
  },
  {
   "cell_type": "code",
   "execution_count": 17,
   "metadata": {},
   "outputs": [
    {
     "data": {
      "image/png": "[encoded data removed]",
      "text/plain": [
       "<Figure size 1080x360 with 3 Axes>"
      ]
     },
     "metadata": {
      "needs_background": "light"
     },
     "output_type": "display_data"
    }
   ],
   "source": [
    "f, ax = plt.subplots(1,2,figsize=(15,5))\n",
    "g = sns.countplot(x=train_data[\"Browser_agg\"], data=train_data, hue=\"OperatingSystems_agg\", ax=ax[0])\n",
    "cutsomcmap = sns.diverging_palette(250, 0, as_cmap=True)\n",
    "heat_map = sns.heatmap(pd.crosstab(train_data[\"Browser_agg\"], train_data[\"OperatingSystems_agg\"]), cmap=cutsomcmap, ax=ax[1])"
   ]
  },
  {
   "cell_type": "code",
   "execution_count": 18,
   "metadata": {
    "scrolled": true
   },
   "outputs": [
    {
     "name": "stdout",
     "output_type": "stream",
     "text": [
      "Contingency table:\n",
      " OperatingSystems_agg     1     2     3  other\n",
      "Browser_agg                                  \n",
      "1                     1474    13     0    208\n",
      "2                      196  3488  1691    146\n",
      "4                        1   492     0      1\n",
      "other                  105   571    94     63\n",
      "Statistic: 6722.363413254109\n",
      "P-value: 0.0\n",
      "DOF: 9\n",
      "probability=0.950, critical=16.919, stat=6722.363\n",
      "Dependent (reject H0)\n",
      "significance=0.050, p=0.000\n",
      "Dependent (reject H0)\n"
     ]
    }
   ],
   "source": [
    "stat, p, dof = chisq_ind_test(train_data, 'Browser_agg', 'OperatingSystems_agg', 0.05)"
   ]
  },
  {
   "cell_type": "markdown",
   "metadata": {},
   "source": [
    "The Browser and Operating system are not independent."
   ]
  },
  {
   "cell_type": "markdown",
   "metadata": {},
   "source": [
    "--------"
   ]
  },
  {
   "cell_type": "markdown",
   "metadata": {},
   "source": [
    "# Region<a id='region'></a>"
   ]
  },
  {
   "cell_type": "code",
   "execution_count": 19,
   "metadata": {},
   "outputs": [
    {
     "data": {
      "text/plain": [
       "1    38.370596\n",
       "2     9.048344\n",
       "3    19.793983\n",
       "4     9.879433\n",
       "5     2.528386\n",
       "6     6.391197\n",
       "7     6.239026\n",
       "8     3.511647\n",
       "9     4.237387\n",
       "Name: Region, dtype: float64"
      ]
     },
     "metadata": {},
     "output_type": "display_data"
    }
   ],
   "source": [
    "display((100*train_data[\"Region\"].value_counts()/train_data.shape[0]).sort_index())"
   ]
  },
  {
   "cell_type": "code",
   "execution_count": 20,
   "metadata": {},
   "outputs": [
    {
     "data": {
      "text/plain": [
       "<matplotlib.axes._subplots.AxesSubplot at 0x2031a1f6550>"
      ]
     },
     "execution_count": 20,
     "metadata": {},
     "output_type": "execute_result"
    },
    {
     "data": {
      "image/png": "[encoded data removed]",
      "text/plain": [
       "<Figure size 720x360 with 1 Axes>"
      ]
     },
     "metadata": {
      "needs_background": "light"
     },
     "output_type": "display_data"
    }
   ],
   "source": [
    "f, ax = plt.subplots(1,1,figsize=(10,5))\n",
    "sns.countplot(x=train_data[\"Region\"], data=train_data, hue=\"Revenue\", palette=rev_palette)"
   ]
  },
  {
   "cell_type": "code",
   "execution_count": 12,
   "metadata": {},
   "outputs": [
    {
     "data": {
      "text/html": [
       "<div>\n",
       "<style scoped>\n",
       "    .dataframe tbody tr th:only-of-type {\n",
       "        vertical-align: middle;\n",
       "    }\n",
       "\n",
       "    .dataframe tbody tr th {\n",
       "        vertical-align: top;\n",
       "    }\n",
       "\n",
       "    .dataframe thead th {\n",
       "        text-align: right;\n",
       "    }\n",
       "</style>\n",
       "<table border=\"1\" class=\"dataframe\">\n",
       "  <thead>\n",
       "    <tr style=\"text-align: right;\">\n",
       "      <th></th>\n",
       "      <th>Revenue</th>\n",
       "      <th>Region</th>\n",
       "      <th>count</th>\n",
       "      <th>count_norm</th>\n",
       "    </tr>\n",
       "  </thead>\n",
       "  <tbody>\n",
       "    <tr>\n",
       "      <th>0</th>\n",
       "      <td>False</td>\n",
       "      <td>1</td>\n",
       "      <td>2739</td>\n",
       "      <td>0.835570</td>\n",
       "    </tr>\n",
       "    <tr>\n",
       "      <th>1</th>\n",
       "      <td>False</td>\n",
       "      <td>2</td>\n",
       "      <td>643</td>\n",
       "      <td>0.831824</td>\n",
       "    </tr>\n",
       "    <tr>\n",
       "      <th>2</th>\n",
       "      <td>False</td>\n",
       "      <td>3</td>\n",
       "      <td>1438</td>\n",
       "      <td>0.850384</td>\n",
       "    </tr>\n",
       "    <tr>\n",
       "      <th>3</th>\n",
       "      <td>False</td>\n",
       "      <td>4</td>\n",
       "      <td>720</td>\n",
       "      <td>0.853081</td>\n",
       "    </tr>\n",
       "    <tr>\n",
       "      <th>4</th>\n",
       "      <td>False</td>\n",
       "      <td>5</td>\n",
       "      <td>182</td>\n",
       "      <td>0.842593</td>\n",
       "    </tr>\n",
       "    <tr>\n",
       "      <th>5</th>\n",
       "      <td>False</td>\n",
       "      <td>6</td>\n",
       "      <td>470</td>\n",
       "      <td>0.860806</td>\n",
       "    </tr>\n",
       "    <tr>\n",
       "      <th>6</th>\n",
       "      <td>False</td>\n",
       "      <td>7</td>\n",
       "      <td>451</td>\n",
       "      <td>0.846154</td>\n",
       "    </tr>\n",
       "    <tr>\n",
       "      <th>7</th>\n",
       "      <td>False</td>\n",
       "      <td>8</td>\n",
       "      <td>262</td>\n",
       "      <td>0.873333</td>\n",
       "    </tr>\n",
       "    <tr>\n",
       "      <th>8</th>\n",
       "      <td>False</td>\n",
       "      <td>9</td>\n",
       "      <td>302</td>\n",
       "      <td>0.834254</td>\n",
       "    </tr>\n",
       "    <tr>\n",
       "      <th>9</th>\n",
       "      <td>True</td>\n",
       "      <td>1</td>\n",
       "      <td>539</td>\n",
       "      <td>0.164430</td>\n",
       "    </tr>\n",
       "    <tr>\n",
       "      <th>10</th>\n",
       "      <td>True</td>\n",
       "      <td>2</td>\n",
       "      <td>130</td>\n",
       "      <td>0.168176</td>\n",
       "    </tr>\n",
       "    <tr>\n",
       "      <th>11</th>\n",
       "      <td>True</td>\n",
       "      <td>3</td>\n",
       "      <td>253</td>\n",
       "      <td>0.149616</td>\n",
       "    </tr>\n",
       "    <tr>\n",
       "      <th>12</th>\n",
       "      <td>True</td>\n",
       "      <td>4</td>\n",
       "      <td>124</td>\n",
       "      <td>0.146919</td>\n",
       "    </tr>\n",
       "    <tr>\n",
       "      <th>13</th>\n",
       "      <td>True</td>\n",
       "      <td>5</td>\n",
       "      <td>34</td>\n",
       "      <td>0.157407</td>\n",
       "    </tr>\n",
       "    <tr>\n",
       "      <th>14</th>\n",
       "      <td>True</td>\n",
       "      <td>6</td>\n",
       "      <td>76</td>\n",
       "      <td>0.139194</td>\n",
       "    </tr>\n",
       "    <tr>\n",
       "      <th>15</th>\n",
       "      <td>True</td>\n",
       "      <td>7</td>\n",
       "      <td>82</td>\n",
       "      <td>0.153846</td>\n",
       "    </tr>\n",
       "    <tr>\n",
       "      <th>16</th>\n",
       "      <td>True</td>\n",
       "      <td>8</td>\n",
       "      <td>38</td>\n",
       "      <td>0.126667</td>\n",
       "    </tr>\n",
       "    <tr>\n",
       "      <th>17</th>\n",
       "      <td>True</td>\n",
       "      <td>9</td>\n",
       "      <td>60</td>\n",
       "      <td>0.165746</td>\n",
       "    </tr>\n",
       "  </tbody>\n",
       "</table>\n",
       "</div>"
      ],
      "text/plain": [
       "    Revenue Region  count  count_norm\n",
       "0     False      1   2739    0.835570\n",
       "1     False      2    643    0.831824\n",
       "2     False      3   1438    0.850384\n",
       "3     False      4    720    0.853081\n",
       "4     False      5    182    0.842593\n",
       "5     False      6    470    0.860806\n",
       "6     False      7    451    0.846154\n",
       "7     False      8    262    0.873333\n",
       "8     False      9    302    0.834254\n",
       "9      True      1    539    0.164430\n",
       "10     True      2    130    0.168176\n",
       "11     True      3    253    0.149616\n",
       "12     True      4    124    0.146919\n",
       "13     True      5     34    0.157407\n",
       "14     True      6     76    0.139194\n",
       "15     True      7     82    0.153846\n",
       "16     True      8     38    0.126667\n",
       "17     True      9     60    0.165746"
      ]
     },
     "metadata": {},
     "output_type": "display_data"
    },
    {
     "data": {
      "text/plain": [
       "<matplotlib.axes._subplots.AxesSubplot at 0x224699d3dd8>"
      ]
     },
     "execution_count": 12,
     "metadata": {},
     "output_type": "execute_result"
    },
    {
     "data": {
      "image/png": "[encoded data removed]",
      "text/plain": [
       "<Figure size 720x360 with 1 Axes>"
      ]
     },
     "metadata": {
      "needs_background": "light"
     },
     "output_type": "display_data"
    }
   ],
   "source": [
    "tmp = train_data[[\"Revenue\", \"Region\"]]\n",
    "tmp[\"Region\"] = tmp[\"Region\"].astype(str)\n",
    "tmp[\"count\"] = 1\n",
    "tmp = tmp.groupby([\"Revenue\", \"Region\"], as_index=False).count()\n",
    "tmp[\"count_norm\"] = 1\n",
    "def get_norm_count(row):\n",
    "    q = \"Region==\\\"\"+row[\"Region\"]+\"\\\"\"\n",
    "    val = tmp.query(q)[\"count\"].sum()\n",
    "    row[\"count_norm\"] = row[\"count\"]/val\n",
    "    return row\n",
    "tmp = tmp.apply(get_norm_count, axis=1)\n",
    "display(tmp)\n",
    "tmp.pivot(columns=\"Revenue\", index=\"Region\", values=\"count_norm\").plot.bar(stacked=True, color=['mistyrose', 'cornflowerblue'], figsize=(10,5))"
   ]
  },
  {
   "cell_type": "code",
   "execution_count": 21,
   "metadata": {
    "scrolled": true
   },
   "outputs": [
    {
     "name": "stdout",
     "output_type": "stream",
     "text": [
      "Contingency table:\n",
      " Revenue  False  True \n",
      "Region               \n",
      "1         2739    539\n",
      "2          643    130\n",
      "3         1438    253\n",
      "4          720    124\n",
      "5          182     34\n",
      "6          470     76\n",
      "7          451     82\n",
      "8          262     38\n",
      "9          302     60\n",
      "Statistic: 7.082623717510663\n",
      "P-value: 0.5277450373140861\n",
      "DOF: 8\n",
      "probability=0.950, critical=15.507, stat=7.083\n",
      "Independent (fail to reject H0)\n",
      "significance=0.050, p=0.528\n",
      "Independent (fail to reject H0)\n"
     ]
    }
   ],
   "source": [
    "stat, p, dof = chisq_ind_test(train_data, 'Region', 'Revenue', 0.05)"
   ]
  },
  {
   "cell_type": "markdown",
   "metadata": {},
   "source": [
    "The Chi square test fails to reject the null hypothesis, stating that Region is independent of Revenue."
   ]
  },
  {
   "cell_type": "markdown",
   "metadata": {},
   "source": [
    "--------"
   ]
  },
  {
   "cell_type": "markdown",
   "metadata": {},
   "source": [
    "# TrafficType<a id='traffic'></a>"
   ]
  },
  {
   "cell_type": "code",
   "execution_count": 16,
   "metadata": {},
   "outputs": [
    {
     "data": {
      "text/html": [
       "<div>\n",
       "<style scoped>\n",
       "    .dataframe tbody tr th:only-of-type {\n",
       "        vertical-align: middle;\n",
       "    }\n",
       "\n",
       "    .dataframe tbody tr th {\n",
       "        vertical-align: top;\n",
       "    }\n",
       "\n",
       "    .dataframe thead th {\n",
       "        text-align: right;\n",
       "    }\n",
       "</style>\n",
       "<table border=\"1\" class=\"dataframe\">\n",
       "  <thead>\n",
       "    <tr style=\"text-align: right;\">\n",
       "      <th></th>\n",
       "      <th>TrafficType</th>\n",
       "    </tr>\n",
       "  </thead>\n",
       "  <tbody>\n",
       "    <tr>\n",
       "      <th>1</th>\n",
       "      <td>19.267236</td>\n",
       "    </tr>\n",
       "    <tr>\n",
       "      <th>2</th>\n",
       "      <td>32.693433</td>\n",
       "    </tr>\n",
       "    <tr>\n",
       "      <th>3</th>\n",
       "      <td>16.375980</td>\n",
       "    </tr>\n",
       "    <tr>\n",
       "      <th>4</th>\n",
       "      <td>8.568419</td>\n",
       "    </tr>\n",
       "    <tr>\n",
       "      <th>5</th>\n",
       "      <td>2.212338</td>\n",
       "    </tr>\n",
       "    <tr>\n",
       "      <th>6</th>\n",
       "      <td>3.558469</td>\n",
       "    </tr>\n",
       "    <tr>\n",
       "      <th>7</th>\n",
       "      <td>0.351165</td>\n",
       "    </tr>\n",
       "    <tr>\n",
       "      <th>8</th>\n",
       "      <td>2.821023</td>\n",
       "    </tr>\n",
       "    <tr>\n",
       "      <th>9</th>\n",
       "      <td>0.304343</td>\n",
       "    </tr>\n",
       "    <tr>\n",
       "      <th>10</th>\n",
       "      <td>3.558469</td>\n",
       "    </tr>\n",
       "    <tr>\n",
       "      <th>11</th>\n",
       "      <td>2.025050</td>\n",
       "    </tr>\n",
       "    <tr>\n",
       "      <th>13</th>\n",
       "      <td>6.004916</td>\n",
       "    </tr>\n",
       "    <tr>\n",
       "      <th>14</th>\n",
       "      <td>0.140466</td>\n",
       "    </tr>\n",
       "    <tr>\n",
       "      <th>15</th>\n",
       "      <td>0.280932</td>\n",
       "    </tr>\n",
       "    <tr>\n",
       "      <th>16</th>\n",
       "      <td>0.011705</td>\n",
       "    </tr>\n",
       "    <tr>\n",
       "      <th>17</th>\n",
       "      <td>0.011705</td>\n",
       "    </tr>\n",
       "    <tr>\n",
       "      <th>18</th>\n",
       "      <td>0.081938</td>\n",
       "    </tr>\n",
       "    <tr>\n",
       "      <th>19</th>\n",
       "      <td>0.152171</td>\n",
       "    </tr>\n",
       "    <tr>\n",
       "      <th>20</th>\n",
       "      <td>1.580241</td>\n",
       "    </tr>\n",
       "  </tbody>\n",
       "</table>\n",
       "</div>"
      ],
      "text/plain": [
       "    TrafficType\n",
       "1     19.267236\n",
       "2     32.693433\n",
       "3     16.375980\n",
       "4      8.568419\n",
       "5      2.212338\n",
       "6      3.558469\n",
       "7      0.351165\n",
       "8      2.821023\n",
       "9      0.304343\n",
       "10     3.558469\n",
       "11     2.025050\n",
       "13     6.004916\n",
       "14     0.140466\n",
       "15     0.280932\n",
       "16     0.011705\n",
       "17     0.011705\n",
       "18     0.081938\n",
       "19     0.152171\n",
       "20     1.580241"
      ]
     },
     "metadata": {},
     "output_type": "display_data"
    }
   ],
   "source": [
    "display(pd.DataFrame((100*train_data[\"TrafficType\"].value_counts()/train_data.shape[0]).sort_index()))"
   ]
  },
  {
   "cell_type": "markdown",
   "metadata": {},
   "source": [
    "Let's aggregate all the Traffic Types that contribute less than 2% together."
   ]
  },
  {
   "cell_type": "code",
   "execution_count": 23,
   "metadata": {},
   "outputs": [
    {
     "data": {
      "text/html": [
       "<div>\n",
       "<style scoped>\n",
       "    .dataframe tbody tr th:only-of-type {\n",
       "        vertical-align: middle;\n",
       "    }\n",
       "\n",
       "    .dataframe tbody tr th {\n",
       "        vertical-align: top;\n",
       "    }\n",
       "\n",
       "    .dataframe thead th {\n",
       "        text-align: right;\n",
       "    }\n",
       "</style>\n",
       "<table border=\"1\" class=\"dataframe\">\n",
       "  <thead>\n",
       "    <tr style=\"text-align: right;\">\n",
       "      <th></th>\n",
       "      <th>TrafficType_agg</th>\n",
       "    </tr>\n",
       "  </thead>\n",
       "  <tbody>\n",
       "    <tr>\n",
       "      <th>2</th>\n",
       "      <td>32.693433</td>\n",
       "    </tr>\n",
       "    <tr>\n",
       "      <th>1</th>\n",
       "      <td>19.267236</td>\n",
       "    </tr>\n",
       "    <tr>\n",
       "      <th>3</th>\n",
       "      <td>16.375980</td>\n",
       "    </tr>\n",
       "    <tr>\n",
       "      <th>4</th>\n",
       "      <td>8.568419</td>\n",
       "    </tr>\n",
       "    <tr>\n",
       "      <th>13</th>\n",
       "      <td>6.004916</td>\n",
       "    </tr>\n",
       "    <tr>\n",
       "      <th>10</th>\n",
       "      <td>3.558469</td>\n",
       "    </tr>\n",
       "    <tr>\n",
       "      <th>6</th>\n",
       "      <td>3.558469</td>\n",
       "    </tr>\n",
       "    <tr>\n",
       "      <th>other</th>\n",
       "      <td>2.914667</td>\n",
       "    </tr>\n",
       "    <tr>\n",
       "      <th>8</th>\n",
       "      <td>2.821023</td>\n",
       "    </tr>\n",
       "    <tr>\n",
       "      <th>5</th>\n",
       "      <td>2.212338</td>\n",
       "    </tr>\n",
       "    <tr>\n",
       "      <th>11</th>\n",
       "      <td>2.025050</td>\n",
       "    </tr>\n",
       "  </tbody>\n",
       "</table>\n",
       "</div>"
      ],
      "text/plain": [
       "       TrafficType_agg\n",
       "2            32.693433\n",
       "1            19.267236\n",
       "3            16.375980\n",
       "4             8.568419\n",
       "13            6.004916\n",
       "10            3.558469\n",
       "6             3.558469\n",
       "other         2.914667\n",
       "8             2.821023\n",
       "5             2.212338\n",
       "11            2.025050"
      ]
     },
     "metadata": {},
     "output_type": "display_data"
    }
   ],
   "source": [
    "traffic_type_pct = 100*train_data[\"TrafficType\"].value_counts().to_frame()/train_data.shape[0]\n",
    "idx_list = traffic_type_pct[traffic_type_pct[\"TrafficType\"] < 2].index\n",
    "train_data[\"TrafficType_agg\"] = train_data[\"TrafficType\"].apply(lambda x: \"other\" if x in idx_list else x)\n",
    "display(100*train_data[\"TrafficType_agg\"].value_counts().to_frame()/train_data.shape[0])"
   ]
  },
  {
   "cell_type": "code",
   "execution_count": 24,
   "metadata": {},
   "outputs": [
    {
     "data": {
      "text/plain": [
       "<matplotlib.axes._subplots.AxesSubplot at 0x2031a1a8e80>"
      ]
     },
     "execution_count": 24,
     "metadata": {},
     "output_type": "execute_result"
    },
    {
     "data": {
      "image/png": "[encoded data removed]",
      "text/plain": [
       "<Figure size 720x360 with 1 Axes>"
      ]
     },
     "metadata": {
      "needs_background": "light"
     },
     "output_type": "display_data"
    }
   ],
   "source": [
    "f, ax = plt.subplots(1,1,figsize=(10,5))\n",
    "sns.countplot(x=train_data[\"TrafficType_agg\"], data=train_data, hue=\"Revenue\", palette=rev_palette, order=[1,2,3,4,5,6,8,10,13,'other'])"
   ]
  },
  {
   "cell_type": "code",
   "execution_count": 25,
   "metadata": {
    "scrolled": true
   },
   "outputs": [
    {
     "name": "stdout",
     "output_type": "stream",
     "text": [
      "Contingency table:\n",
      " Revenue          False  True \n",
      "TrafficType_agg              \n",
      "1                 1461    185\n",
      "2                 2194    599\n",
      "3                 1287    112\n",
      "4                  619    113\n",
      "5                  147     42\n",
      "6                  268     36\n",
      "8                  173     68\n",
      "10                 241     63\n",
      "11                 139     34\n",
      "13                 485     28\n",
      "other              193     56\n",
      "Statistic: 253.019769414731\n",
      "P-value: 1.2577121742696573e-48\n",
      "DOF: 10\n",
      "probability=0.950, critical=18.307, stat=253.020\n",
      "Dependent (reject H0)\n",
      "significance=0.050, p=0.000\n",
      "Dependent (reject H0)\n"
     ]
    }
   ],
   "source": [
    "stat, p, dof = chisq_ind_test(train_data, 'TrafficType_agg', 'Revenue', 0.05)"
   ]
  },
  {
   "cell_type": "markdown",
   "metadata": {},
   "source": [
    "The Chi square test rejects the null hypothesis, stating that TrafficType (agg) has an association with Revenue."
   ]
  },
  {
   "cell_type": "markdown",
   "metadata": {},
   "source": [
    "--------"
   ]
  },
  {
   "cell_type": "markdown",
   "metadata": {},
   "source": [
    "# Visitor Type<a id='visitor'></a>"
   ]
  },
  {
   "cell_type": "markdown",
   "metadata": {},
   "source": [
    "--------"
   ]
  },
  {
   "cell_type": "code",
   "execution_count": 26,
   "metadata": {},
   "outputs": [
    {
     "data": {
      "text/plain": [
       "New_Visitor          14.386047\n",
       "Other                 0.632096\n",
       "Returning_Visitor    84.981856\n",
       "Name: VisitorType, dtype: float64"
      ]
     },
     "metadata": {},
     "output_type": "display_data"
    }
   ],
   "source": [
    "display((100*train_data[\"VisitorType\"].value_counts()/train_data.shape[0]).sort_index())"
   ]
  },
  {
   "cell_type": "code",
   "execution_count": 27,
   "metadata": {},
   "outputs": [
    {
     "data": {
      "text/plain": [
       "<matplotlib.axes._subplots.AxesSubplot at 0x2031a35ca58>"
      ]
     },
     "execution_count": 27,
     "metadata": {},
     "output_type": "execute_result"
    },
    {
     "data": {
      "image/png": "[encoded data removed]",
      "text/plain": [
       "<Figure size 720x360 with 1 Axes>"
      ]
     },
     "metadata": {
      "needs_background": "light"
     },
     "output_type": "display_data"
    }
   ],
   "source": [
    "f, ax = plt.subplots(1,1,figsize=(10,5))\n",
    "sns.countplot(x=train_data[\"VisitorType\"], data=train_data, hue=\"Revenue\", palette=rev_palette)"
   ]
  },
  {
   "cell_type": "code",
   "execution_count": 74,
   "metadata": {},
   "outputs": [
    {
     "data": {
      "text/plain": [
       "<matplotlib.axes._subplots.AxesSubplot at 0x2ccecf32dd8>"
      ]
     },
     "execution_count": 74,
     "metadata": {},
     "output_type": "execute_result"
    },
    {
     "data": {
      "image/png": "[encoded data removed]",
      "text/plain": [
       "<Figure size 720x360 with 1 Axes>"
      ]
     },
     "metadata": {
      "needs_background": "light"
     },
     "output_type": "display_data"
    }
   ],
   "source": [
    "tmp = train_data[[\"Revenue\", \"VisitorType\"]]\n",
    "tmp[\"VisitorType\"] = tmp[\"VisitorType\"].astype(str)\n",
    "tmp[\"count\"] = 1\n",
    "tmp = tmp.groupby([\"Revenue\", \"VisitorType\"], as_index=False).count()\n",
    "tmp[\"count_norm\"] = 1\n",
    "def get_norm_count(row):\n",
    "    q = \"VisitorType==\\\"\"+row[\"VisitorType\"]+\"\\\"\"\n",
    "    val = tmp.query(q)[\"count\"].sum()\n",
    "    row[\"count_norm\"] = row[\"count\"]/val\n",
    "    return row\n",
    "tmp = tmp.apply(get_norm_count, axis=1)\n",
    "tmp.pivot(columns=\"Revenue\", index=\"VisitorType\", values=\"count_norm\").plot.bar(stacked=True, color=['mistyrose', 'cornflowerblue'], figsize=(10,5))"
   ]
  },
  {
   "cell_type": "code",
   "execution_count": 28,
   "metadata": {
    "scrolled": true
   },
   "outputs": [
    {
     "name": "stdout",
     "output_type": "stream",
     "text": [
      "Contingency table:\n",
      " Revenue            False  True \n",
      "VisitorType                    \n",
      "New_Visitor          931    298\n",
      "Other                 44     10\n",
      "Returning_Visitor   6232   1028\n",
      "Statistic: 81.4126377933747\n",
      "P-value: 2.0963815292451966e-18\n",
      "DOF: 2\n",
      "probability=0.950, critical=5.991, stat=81.413\n",
      "Dependent (reject H0)\n",
      "significance=0.050, p=0.000\n",
      "Dependent (reject H0)\n"
     ]
    }
   ],
   "source": [
    "stat, p, dof = chisq_ind_test(train_data, 'VisitorType', 'Revenue', 0.05)"
   ]
  },
  {
   "cell_type": "markdown",
   "metadata": {},
   "source": [
    "Visitor type and Revenue have a strong association with each other."
   ]
  },
  {
   "cell_type": "markdown",
   "metadata": {},
   "source": [
    "--------"
   ]
  },
  {
   "cell_type": "markdown",
   "metadata": {},
   "source": [
    "# Weekend<a id='weekend'></a>"
   ]
  },
  {
   "cell_type": "code",
   "execution_count": 29,
   "metadata": {},
   "outputs": [
    {
     "data": {
      "text/plain": [
       "False    76.928479\n",
       "True     23.071521\n",
       "Name: Weekend, dtype: float64"
      ]
     },
     "metadata": {},
     "output_type": "display_data"
    }
   ],
   "source": [
    "display((100*train_data[\"Weekend\"].value_counts()/train_data.shape[0]).sort_index())"
   ]
  },
  {
   "cell_type": "code",
   "execution_count": 30,
   "metadata": {
    "scrolled": false
   },
   "outputs": [
    {
     "data": {
      "text/plain": [
       "<matplotlib.axes._subplots.AxesSubplot at 0x2031a45fe10>"
      ]
     },
     "execution_count": 30,
     "metadata": {},
     "output_type": "execute_result"
    },
    {
     "data": {
      "image/png": "[encoded data removed]",
      "text/plain": [
       "<Figure size 720x360 with 1 Axes>"
      ]
     },
     "metadata": {
      "needs_background": "light"
     },
     "output_type": "display_data"
    }
   ],
   "source": [
    "f, ax = plt.subplots(1,1,figsize=(10,5))\n",
    "sns.countplot(x=\"Weekend\", data=train_data, hue=\"Revenue\", palette=rev_palette)"
   ]
  },
  {
   "cell_type": "code",
   "execution_count": 31,
   "metadata": {
    "scrolled": true
   },
   "outputs": [
    {
     "name": "stdout",
     "output_type": "stream",
     "text": [
      "Contingency table:\n",
      " Revenue  False  True \n",
      "Weekend              \n",
      "False     5589    983\n",
      "True      1618    353\n",
      "Statistic: 9.79482998316253\n",
      "P-value: 0.001750031903416694\n",
      "DOF: 1\n",
      "probability=0.950, critical=3.841, stat=9.795\n",
      "Dependent (reject H0)\n",
      "significance=0.050, p=0.002\n",
      "Dependent (reject H0)\n"
     ]
    }
   ],
   "source": [
    "stat, p, dof = chisq_ind_test(train_data, 'Weekend', 'Revenue', 0.05)"
   ]
  },
  {
   "cell_type": "markdown",
   "metadata": {},
   "source": [
    "A weekend may also be a strong predictor of Revenue generation for a session."
   ]
  },
  {
   "cell_type": "markdown",
   "metadata": {},
   "source": [
    "--------"
   ]
  },
  {
   "cell_type": "markdown",
   "metadata": {},
   "source": [
    "Let's make a dataframe with the categorical features alongside their Chisq statistic and p-values for summary"
   ]
  },
  {
   "cell_type": "code",
   "execution_count": 32,
   "metadata": {},
   "outputs": [
    {
     "name": "stdout",
     "output_type": "stream",
     "text": [
      "Month --> OperatingSystems --> Browser --> Region --> TrafficType --> VisitorType --> Weekend --> quarter --> Browser_agg --> TrafficType_agg --> OperatingSystems_agg --> "
     ]
    },
    {
     "data": {
      "text/html": [
       "<style  type=\"text/css\" >\n",
       "    #T_cabcdbe2_571e_11ea_aede_9c5c8e174225row3_col0 {\n",
       "            background-color:  salmon;\n",
       "        }    #T_cabcdbe2_571e_11ea_aede_9c5c8e174225row3_col1 {\n",
       "            background-color:  salmon;\n",
       "        }    #T_cabcdbe2_571e_11ea_aede_9c5c8e174225row3_col2 {\n",
       "            background-color:  salmon;\n",
       "        }    #T_cabcdbe2_571e_11ea_aede_9c5c8e174225row8_col0 {\n",
       "            background-color:  salmon;\n",
       "        }    #T_cabcdbe2_571e_11ea_aede_9c5c8e174225row8_col1 {\n",
       "            background-color:  salmon;\n",
       "        }    #T_cabcdbe2_571e_11ea_aede_9c5c8e174225row8_col2 {\n",
       "            background-color:  salmon;\n",
       "        }</style><table id=\"T_cabcdbe2_571e_11ea_aede_9c5c8e174225\" ><thead>    <tr>        <th class=\"blank level0\" ></th>        <th class=\"col_heading level0 col0\" >column</th>        <th class=\"col_heading level0 col1\" >chisq_stat</th>        <th class=\"col_heading level0 col2\" >pval</th>    </tr></thead><tbody>\n",
       "                <tr>\n",
       "                        <th id=\"T_cabcdbe2_571e_11ea_aede_9c5c8e174225level0_row0\" class=\"row_heading level0 row0\" >0</th>\n",
       "                        <td id=\"T_cabcdbe2_571e_11ea_aede_9c5c8e174225row0_col0\" class=\"data row0 col0\" >Month</td>\n",
       "                        <td id=\"T_cabcdbe2_571e_11ea_aede_9c5c8e174225row0_col1\" class=\"data row0 col1\" >275.416</td>\n",
       "                        <td id=\"T_cabcdbe2_571e_11ea_aede_9c5c8e174225row0_col2\" class=\"data row0 col2\" >0</td>\n",
       "            </tr>\n",
       "            <tr>\n",
       "                        <th id=\"T_cabcdbe2_571e_11ea_aede_9c5c8e174225level0_row1\" class=\"row_heading level0 row1\" >1</th>\n",
       "                        <td id=\"T_cabcdbe2_571e_11ea_aede_9c5c8e174225row1_col0\" class=\"data row1 col0\" >OperatingSystems</td>\n",
       "                        <td id=\"T_cabcdbe2_571e_11ea_aede_9c5c8e174225row1_col1\" class=\"data row1 col1\" >42.1854</td>\n",
       "                        <td id=\"T_cabcdbe2_571e_11ea_aede_9c5c8e174225row1_col2\" class=\"data row1 col2\" >0</td>\n",
       "            </tr>\n",
       "            <tr>\n",
       "                        <th id=\"T_cabcdbe2_571e_11ea_aede_9c5c8e174225level0_row2\" class=\"row_heading level0 row2\" >2</th>\n",
       "                        <td id=\"T_cabcdbe2_571e_11ea_aede_9c5c8e174225row2_col0\" class=\"data row2 col0\" >Browser</td>\n",
       "                        <td id=\"T_cabcdbe2_571e_11ea_aede_9c5c8e174225row2_col1\" class=\"data row2 col1\" >22.5624</td>\n",
       "                        <td id=\"T_cabcdbe2_571e_11ea_aede_9c5c8e174225row2_col2\" class=\"data row2 col2\" >0.0317</td>\n",
       "            </tr>\n",
       "            <tr>\n",
       "                        <th id=\"T_cabcdbe2_571e_11ea_aede_9c5c8e174225level0_row3\" class=\"row_heading level0 row3\" >3</th>\n",
       "                        <td id=\"T_cabcdbe2_571e_11ea_aede_9c5c8e174225row3_col0\" class=\"data row3 col0\" >Region</td>\n",
       "                        <td id=\"T_cabcdbe2_571e_11ea_aede_9c5c8e174225row3_col1\" class=\"data row3 col1\" >7.08262</td>\n",
       "                        <td id=\"T_cabcdbe2_571e_11ea_aede_9c5c8e174225row3_col2\" class=\"data row3 col2\" >0.5277</td>\n",
       "            </tr>\n",
       "            <tr>\n",
       "                        <th id=\"T_cabcdbe2_571e_11ea_aede_9c5c8e174225level0_row4\" class=\"row_heading level0 row4\" >4</th>\n",
       "                        <td id=\"T_cabcdbe2_571e_11ea_aede_9c5c8e174225row4_col0\" class=\"data row4 col0\" >TrafficType</td>\n",
       "                        <td id=\"T_cabcdbe2_571e_11ea_aede_9c5c8e174225row4_col1\" class=\"data row4 col1\" >275.996</td>\n",
       "                        <td id=\"T_cabcdbe2_571e_11ea_aede_9c5c8e174225row4_col2\" class=\"data row4 col2\" >0</td>\n",
       "            </tr>\n",
       "            <tr>\n",
       "                        <th id=\"T_cabcdbe2_571e_11ea_aede_9c5c8e174225level0_row5\" class=\"row_heading level0 row5\" >5</th>\n",
       "                        <td id=\"T_cabcdbe2_571e_11ea_aede_9c5c8e174225row5_col0\" class=\"data row5 col0\" >VisitorType</td>\n",
       "                        <td id=\"T_cabcdbe2_571e_11ea_aede_9c5c8e174225row5_col1\" class=\"data row5 col1\" >81.4126</td>\n",
       "                        <td id=\"T_cabcdbe2_571e_11ea_aede_9c5c8e174225row5_col2\" class=\"data row5 col2\" >0</td>\n",
       "            </tr>\n",
       "            <tr>\n",
       "                        <th id=\"T_cabcdbe2_571e_11ea_aede_9c5c8e174225level0_row6\" class=\"row_heading level0 row6\" >6</th>\n",
       "                        <td id=\"T_cabcdbe2_571e_11ea_aede_9c5c8e174225row6_col0\" class=\"data row6 col0\" >Weekend</td>\n",
       "                        <td id=\"T_cabcdbe2_571e_11ea_aede_9c5c8e174225row6_col1\" class=\"data row6 col1\" >9.79483</td>\n",
       "                        <td id=\"T_cabcdbe2_571e_11ea_aede_9c5c8e174225row6_col2\" class=\"data row6 col2\" >0.0018</td>\n",
       "            </tr>\n",
       "            <tr>\n",
       "                        <th id=\"T_cabcdbe2_571e_11ea_aede_9c5c8e174225level0_row7\" class=\"row_heading level0 row7\" >7</th>\n",
       "                        <td id=\"T_cabcdbe2_571e_11ea_aede_9c5c8e174225row7_col0\" class=\"data row7 col0\" >quarter</td>\n",
       "                        <td id=\"T_cabcdbe2_571e_11ea_aede_9c5c8e174225row7_col1\" class=\"data row7 col1\" >175.015</td>\n",
       "                        <td id=\"T_cabcdbe2_571e_11ea_aede_9c5c8e174225row7_col2\" class=\"data row7 col2\" >0</td>\n",
       "            </tr>\n",
       "            <tr>\n",
       "                        <th id=\"T_cabcdbe2_571e_11ea_aede_9c5c8e174225level0_row8\" class=\"row_heading level0 row8\" >8</th>\n",
       "                        <td id=\"T_cabcdbe2_571e_11ea_aede_9c5c8e174225row8_col0\" class=\"data row8 col0\" >Browser_agg</td>\n",
       "                        <td id=\"T_cabcdbe2_571e_11ea_aede_9c5c8e174225row8_col1\" class=\"data row8 col1\" >3.55429</td>\n",
       "                        <td id=\"T_cabcdbe2_571e_11ea_aede_9c5c8e174225row8_col2\" class=\"data row8 col2\" >0.3138</td>\n",
       "            </tr>\n",
       "            <tr>\n",
       "                        <th id=\"T_cabcdbe2_571e_11ea_aede_9c5c8e174225level0_row9\" class=\"row_heading level0 row9\" >9</th>\n",
       "                        <td id=\"T_cabcdbe2_571e_11ea_aede_9c5c8e174225row9_col0\" class=\"data row9 col0\" >TrafficType_agg</td>\n",
       "                        <td id=\"T_cabcdbe2_571e_11ea_aede_9c5c8e174225row9_col1\" class=\"data row9 col1\" >253.02</td>\n",
       "                        <td id=\"T_cabcdbe2_571e_11ea_aede_9c5c8e174225row9_col2\" class=\"data row9 col2\" >0</td>\n",
       "            </tr>\n",
       "            <tr>\n",
       "                        <th id=\"T_cabcdbe2_571e_11ea_aede_9c5c8e174225level0_row10\" class=\"row_heading level0 row10\" >10</th>\n",
       "                        <td id=\"T_cabcdbe2_571e_11ea_aede_9c5c8e174225row10_col0\" class=\"data row10 col0\" >OperatingSystems_agg</td>\n",
       "                        <td id=\"T_cabcdbe2_571e_11ea_aede_9c5c8e174225row10_col1\" class=\"data row10 col1\" >38.6476</td>\n",
       "                        <td id=\"T_cabcdbe2_571e_11ea_aede_9c5c8e174225row10_col2\" class=\"data row10 col2\" >0</td>\n",
       "            </tr>\n",
       "    </tbody></table>"
      ],
      "text/plain": [
       "<pandas.io.formats.style.Styler at 0x2031a6775c0>"
      ]
     },
     "execution_count": 32,
     "metadata": {},
     "output_type": "execute_result"
    }
   ],
   "source": [
    "chisq_dict = {\"column\":[], \n",
    "             \"chisq_stat\":[],\n",
    "             \"pval\":[],\n",
    "#              \"dof\":[]\n",
    "             }\n",
    "for c in cat_cols+[\"quarter\", \"Browser_agg\", \"TrafficType_agg\", \"OperatingSystems_agg\"]:\n",
    "    print(c, end=\" --> \")\n",
    "    stat, p, dof = chisq_ind_test(train_data, c, \"Revenue\", debug=False, print_result=False)\n",
    "    chisq_dict[\"column\"].append(c)\n",
    "    chisq_dict[\"chisq_stat\"].append(stat)\n",
    "    chisq_dict[\"pval\"].append(np.round(p, 4))\n",
    "#     chisq_dict[\"dof\"].append(dof)\n",
    "\n",
    "def highlight_weakpred(x):\n",
    "    return ['background-color: salmon' if x[\"pval\"] > 0.05\n",
    "            else ''\n",
    "            for i in x]\n",
    "\n",
    "pd.DataFrame(chisq_dict).style.apply(highlight_weakpred, axis=1)"
   ]
  },
  {
   "cell_type": "code",
   "execution_count": 33,
   "metadata": {},
   "outputs": [
    {
     "data": {
      "text/html": [
       "<div>\n",
       "<style scoped>\n",
       "    .dataframe tbody tr th:only-of-type {\n",
       "        vertical-align: middle;\n",
       "    }\n",
       "\n",
       "    .dataframe tbody tr th {\n",
       "        vertical-align: top;\n",
       "    }\n",
       "\n",
       "    .dataframe thead th {\n",
       "        text-align: right;\n",
       "    }\n",
       "</style>\n",
       "<table border=\"1\" class=\"dataframe\">\n",
       "  <thead>\n",
       "    <tr style=\"text-align: right;\">\n",
       "      <th></th>\n",
       "      <th>col</th>\n",
       "      <th>cv</th>\n",
       "    </tr>\n",
       "  </thead>\n",
       "  <tbody>\n",
       "    <tr>\n",
       "      <th>0</th>\n",
       "      <td>Month</td>\n",
       "      <td>0.176604</td>\n",
       "    </tr>\n",
       "    <tr>\n",
       "      <th>4</th>\n",
       "      <td>TrafficType</td>\n",
       "      <td>0.173790</td>\n",
       "    </tr>\n",
       "    <tr>\n",
       "      <th>9</th>\n",
       "      <td>TrafficType_agg</td>\n",
       "      <td>0.168671</td>\n",
       "    </tr>\n",
       "    <tr>\n",
       "      <th>7</th>\n",
       "      <td>quarter</td>\n",
       "      <td>0.141907</td>\n",
       "    </tr>\n",
       "    <tr>\n",
       "      <th>5</th>\n",
       "      <td>VisitorType</td>\n",
       "      <td>0.096419</td>\n",
       "    </tr>\n",
       "    <tr>\n",
       "      <th>10</th>\n",
       "      <td>OperatingSystems_agg</td>\n",
       "      <td>0.064600</td>\n",
       "    </tr>\n",
       "    <tr>\n",
       "      <th>1</th>\n",
       "      <td>OperatingSystems</td>\n",
       "      <td>0.064180</td>\n",
       "    </tr>\n",
       "    <tr>\n",
       "      <th>2</th>\n",
       "      <td>Browser</td>\n",
       "      <td>0.035162</td>\n",
       "    </tr>\n",
       "    <tr>\n",
       "      <th>6</th>\n",
       "      <td>Weekend</td>\n",
       "      <td>0.032087</td>\n",
       "    </tr>\n",
       "    <tr>\n",
       "      <th>8</th>\n",
       "      <td>Browser_agg</td>\n",
       "      <td>0.008053</td>\n",
       "    </tr>\n",
       "    <tr>\n",
       "      <th>3</th>\n",
       "      <td>Region</td>\n",
       "      <td>0.000000</td>\n",
       "    </tr>\n",
       "  </tbody>\n",
       "</table>\n",
       "</div>"
      ],
      "text/plain": [
       "                     col        cv\n",
       "0                  Month  0.176604\n",
       "4            TrafficType  0.173790\n",
       "9        TrafficType_agg  0.168671\n",
       "7                quarter  0.141907\n",
       "5            VisitorType  0.096419\n",
       "10  OperatingSystems_agg  0.064600\n",
       "1       OperatingSystems  0.064180\n",
       "2                Browser  0.035162\n",
       "6                Weekend  0.032087\n",
       "8            Browser_agg  0.008053\n",
       "3                 Region  0.000000"
      ]
     },
     "execution_count": 33,
     "metadata": {},
     "output_type": "execute_result"
    }
   ],
   "source": [
    "def cramers_v(x, y):\n",
    "    confusion_matrix = pd.crosstab(x,y)\n",
    "    chi2 = chi2_contingency(confusion_matrix)[0]\n",
    "    n = confusion_matrix.sum().sum()\n",
    "    phi2 = chi2/n\n",
    "    r,k = confusion_matrix.shape\n",
    "    phi2corr = max(0, phi2-((k-1)*(r-1))/(n-1))\n",
    "    rcorr = r-((r-1)**2)/(n-1)\n",
    "    kcorr = k-((k-1)**2)/(n-1)\n",
    "    return np.sqrt(phi2corr/min((kcorr-1),(rcorr-1)))\n",
    "\n",
    "ctest = {\"col\":[],\"cv\":[]}\n",
    "for c in cat_cols+[\"quarter\", \"Browser_agg\", \"TrafficType_agg\", \"OperatingSystems_agg\"]:\n",
    "    cv = cramers_v(train_data[c], train_data[\"Revenue\"])\n",
    "    ctest[\"col\"].append(c)\n",
    "    ctest[\"cv\"].append(cv)\n",
    "pd.DataFrame(ctest).sort_values(\"cv\", ascending=False)"
   ]
  },
  {
   "cell_type": "markdown",
   "metadata": {},
   "source": [
    "---------"
   ]
  },
  {
   "cell_type": "markdown",
   "metadata": {},
   "source": [
    "#  Summary:<a id='summary'></a>"
   ]
  },
  {
   "cell_type": "markdown",
   "metadata": {},
   "source": [
    "There are some categorical variables that test positive for independence from Revenue. \n",
    "\n",
    "While modeling these may be filtered out based on these criteria.\n",
    "\n",
    "- November appears to be the most active month\n",
    "- TrafficType (aggregated) has predictive power\n",
    "\n",
    "Independent Variables:\n",
    "- Browser\n",
    "- Region\n",
    "\n",
    "Additional features created:\n",
    "- quarter\n",
    "- Browser_agg\n",
    "- TrafficType_agg\n",
    "- OperatingSystems_agg"
   ]
  }
 ],
 "metadata": {
  "kernelspec": {
   "display_name": "Python 3",
   "language": "python",
   "name": "python3"
  },
  "language_info": {
   "codemirror_mode": {
    "name": "ipython",
    "version": 3
   },
   "file_extension": ".py",
   "mimetype": "text/x-python",
   "name": "python",
   "nbconvert_exporter": "python",
   "pygments_lexer": "ipython3",
   "version": "3.6.7"
  }
 },
 "nbformat": 4,
 "nbformat_minor": 2
}
